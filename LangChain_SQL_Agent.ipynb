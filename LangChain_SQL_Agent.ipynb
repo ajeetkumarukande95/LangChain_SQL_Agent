{
  "nbformat": 4,
  "nbformat_minor": 0,
  "metadata": {
    "colab": {
      "provenance": []
    },
    "kernelspec": {
      "name": "python3",
      "display_name": "Python 3"
    },
    "language_info": {
      "name": "python"
    }
  },
  "cells": [
    {
      "cell_type": "code",
      "execution_count": null,
      "metadata": {
        "id": "7sNmrJhLrizl"
      },
      "outputs": [],
      "source": [
        "!pip install langchain openai pymysql --upgrade -q google-search-results"
      ]
    },
    {
      "cell_type": "code",
      "source": [
        "from langchain.agents import load_tools\n",
        "from langchain.agents import initialize_agent\n",
        "from langchain.agents import AgentType\n",
        "from langchain.llms import OpenAI"
      ],
      "metadata": {
        "id": "D68M-d1msPdw"
      },
      "execution_count": null,
      "outputs": []
    },
    {
      "cell_type": "code",
      "source": [
        "# access the openai access token key"
      ],
      "metadata": {
        "id": "9BulRQihs2Dq"
      },
      "execution_count": null,
      "outputs": []
    },
    {
      "cell_type": "code",
      "source": [
        "os.environ['OPENAI_API_KEY'] = \"your_openai_api_key\"\n",
        "os.environ[\"SERPAPI_API_KEY\"] = \"your_serpapi_api_key\""
      ],
      "metadata": {
        "id": "bEkCNsk7sPfb"
      },
      "execution_count": null,
      "outputs": []
    },
    {
      "cell_type": "code",
      "source": [
        "# or use below methods to access the openau access token key"
      ],
      "metadata": {
        "id": "dR9_-NezshRy"
      },
      "execution_count": null,
      "outputs": []
    },
    {
      "cell_type": "code",
      "source": [
        "from google.colab import userdata\n",
        "\n",
        "openai_key = userdata.get('OPENAI_API_KEY')\n",
        "serp_api_key = userdata.get('SERP_API')"
      ],
      "metadata": {
        "id": "AVGbkS1nrsgv"
      },
      "execution_count": null,
      "outputs": []
    },
    {
      "cell_type": "code",
      "source": [
        "import os\n",
        "\n",
        "os.environ['OPENAI_API_KEY'] = openai_key\n",
        "os.environ['HUGGINGFACEHUB_API_TOKEN'] = huggingface_key\n",
        "os.environ[\"SERPAPI_API_KEY\"] = serp_api_key"
      ],
      "metadata": {
        "id": "M8NRMj4frsiW"
      },
      "execution_count": null,
      "outputs": []
    },
    {
      "cell_type": "code",
      "source": [
        "from langchain.llms import OpenAI\n",
        "llm = OpenAI()"
      ],
      "metadata": {
        "id": "pIrcSjHttAzi"
      },
      "execution_count": null,
      "outputs": []
    },
    {
      "cell_type": "code",
      "source": [
        "result = llm(\"who won the 2011 cricket worldcup?\")\n",
        "\n",
        "print(result)"
      ],
      "metadata": {
        "id": "7KsVFccgtA4a"
      },
      "execution_count": null,
      "outputs": []
    },
    {
      "cell_type": "code",
      "source": [
        "from langchain.agents import load_tools,initialize_agent"
      ],
      "metadata": {
        "id": "dxRtC4QPtmrc"
      },
      "execution_count": null,
      "outputs": []
    },
    {
      "cell_type": "code",
      "source": [
        "llm = OpenAI(temperature=0)\n",
        "tools = load_tools([\"serpapi\", \"llm-math\"], llm=llm)\n",
        "agent = initialize_agent(llm=llm, tools=tools,description = 'zero-shot-react-descriptions',verbose=True)"
      ],
      "metadata": {
        "id": "GS_YyRTCtA6-"
      },
      "execution_count": null,
      "outputs": []
    },
    {
      "cell_type": "code",
      "source": [
        "agent.run(\"who is cm of maharashtra?\")"
      ],
      "metadata": {
        "id": "F6m37AaUtA9H"
      },
      "execution_count": null,
      "outputs": []
    },
    {
      "cell_type": "code",
      "source": [
        "from langchain.agents import *\n",
        "from langchain.sql_database import SQLDatabase\n"
      ],
      "metadata": {
        "id": "hw-Ko8bAtA-o"
      },
      "execution_count": null,
      "outputs": []
    },
    {
      "cell_type": "code",
      "source": [
        "# Connect to your database"
      ],
      "metadata": {
        "id": "OJ1TVqmftBB_"
      },
      "execution_count": null,
      "outputs": []
    },
    {
      "cell_type": "code",
      "source": [
        "pythonCopy codedb_user = \"db_user\"\n",
        "db_password = \"db_password\"\n",
        "db_host = \"db_host\"\n",
        "db_name = \"db_name\"\n",
        "db = SQLDatabase.from_uri(f\"mysql+pymysql://{db_user}:{db_password}@{db_host}/{db_name}\")\n"
      ],
      "metadata": {
        "id": "JZsCEtRftBE2"
      },
      "execution_count": null,
      "outputs": []
    },
    {
      "cell_type": "code",
      "source": [
        "# Set up the LLM, toolkit, and agent executor\n"
      ],
      "metadata": {
        "id": "EhKCULaUtBIl"
      },
      "execution_count": null,
      "outputs": []
    },
    {
      "cell_type": "code",
      "source": [
        "pythonCopy codefrom langchain.chat_models import ChatOpenAI\n"
      ],
      "metadata": {
        "id": "01E6Ax5Qrsmf"
      },
      "execution_count": null,
      "outputs": []
    },
    {
      "cell_type": "code",
      "source": [
        "llm = ChatOpenAI(model_name=\"gpt-3.5-turbo\")"
      ],
      "metadata": {
        "id": "WNQBl6FJwnJ-"
      },
      "execution_count": null,
      "outputs": []
    },
    {
      "cell_type": "code",
      "source": [
        "toolkit = SQLDatabaseToolkit(db=db)"
      ],
      "metadata": {
        "id": "Zdvo-ympwnLr"
      },
      "execution_count": null,
      "outputs": []
    },
    {
      "cell_type": "code",
      "source": [
        "agent_executor = create_sql_agent(\n",
        "    llm=llm,\n",
        "    toolkit=toolkit,\n",
        "    verbose=True\n",
        ")"
      ],
      "metadata": {
        "id": "ke7gs5s3wnPL"
      },
      "execution_count": null,
      "outputs": []
    },
    {
      "cell_type": "code",
      "source": [
        "# Query the database with natural language"
      ],
      "metadata": {
        "id": "vaD8ucabwnRI"
      },
      "execution_count": null,
      "outputs": []
    },
    {
      "cell_type": "code",
      "source": [
        "agent_executor.run(\"Describe the Order related table and how they are related\")\n"
      ],
      "metadata": {
        "id": "_1gf1edVwnUX"
      },
      "execution_count": null,
      "outputs": []
    },
    {
      "cell_type": "code",
      "source": [],
      "metadata": {
        "id": "9pEi8gbGwnWB"
      },
      "execution_count": null,
      "outputs": []
    },
    {
      "cell_type": "code",
      "source": [],
      "metadata": {
        "id": "xkHs4jm0wnY2"
      },
      "execution_count": null,
      "outputs": []
    },
    {
      "cell_type": "code",
      "source": [],
      "metadata": {
        "id": "c0sxCCNkwnar"
      },
      "execution_count": null,
      "outputs": []
    },
    {
      "cell_type": "code",
      "source": [],
      "metadata": {
        "id": "rBu2624ZwneS"
      },
      "execution_count": null,
      "outputs": []
    }
  ]
}